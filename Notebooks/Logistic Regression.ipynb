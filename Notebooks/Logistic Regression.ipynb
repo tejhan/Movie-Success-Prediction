{
 "cells": [
  {
   "cell_type": "code",
   "execution_count": 1,
   "id": "75051b61",
   "metadata": {},
   "outputs": [],
   "source": [
    "import numpy as np\n",
    "import pandas as pd\n",
    "\n",
    "import statsmodels.api as sm\n",
    "from scipy.stats import norm\n",
    "\n",
    "import sklearn as sk\n",
    "from sklearn.model_selection import train_test_split\n",
    "from sklearn.linear_model import LogisticRegression\n",
    "from sklearn.metrics import classification_report, confusion_matrix\n",
    "\n",
    "import matplotlib.pyplot as plt \n",
    "%matplotlib inline\n",
    "\n",
    "import ast\n",
    "\n",
    "import warnings\n",
    "warnings.filterwarnings('ignore')"
   ]
  },
  {
   "cell_type": "markdown",
   "id": "5102c656",
   "metadata": {},
   "source": [
    "## Logistic Regression"
   ]
  },
  {
   "cell_type": "markdown",
   "id": "18962ef7",
   "metadata": {},
   "source": [
    "__Load Dataset__"
   ]
  },
  {
   "cell_type": "code",
   "execution_count": 51,
   "id": "24cb2b83",
   "metadata": {},
   "outputs": [],
   "source": [
    "mov = pd.read_csv(\"may_5.csv\")\n",
    "mov_logit = mov[(mov[\"vote_count\"] >= 20)]\n",
    "\n",
    "cols = ['genres_clean_list', 'companies_clean_list', 'countries_clean_list', 'keywords_clean_list', 'cast_clean_list', 'crew_clean_list', 'cast_short_list', 'crew_short_list']\n",
    "for i in range(len(mov)):\n",
    "    for c in cols:\n",
    "        mov[c].iloc[i] = ast.literal_eval(mov[c].iloc[i])"
   ]
  },
  {
   "cell_type": "markdown",
   "id": "07babe15",
   "metadata": {},
   "source": [
    "__sklearn Logistic Regression Models__"
   ]
  },
  {
   "cell_type": "markdown",
   "id": "a471825b",
   "metadata": {},
   "source": [
    "__Many-hot Encoding for Genres__"
   ]
  },
  {
   "cell_type": "code",
   "execution_count": 100,
   "id": "ef362efd",
   "metadata": {},
   "outputs": [],
   "source": [
    "# many-hot encoding for genres\n",
    "\n",
    "# get all unique genres\n",
    "unique_cat = []\n",
    "for i in range(len(mov_logit)):\n",
    "    for name in mov_logit['genres_clean_list'].iloc[i]:\n",
    "        if (name not in unique_cat):\n",
    "            unique_cat.append(name)\n",
    "            \n",
    "# generate many-hot encoding for all movies\n",
    "encoded_list = []\n",
    "for i in range(len(mov_logit)):\n",
    "    row = []\n",
    "    for name in unique_cat:\n",
    "        if (name in mov_logit['genres_clean_list'].iloc[i]):\n",
    "            row.append(1)\n",
    "        else:\n",
    "            row.append(0)\n",
    "    encoded_list.append(row)\n",
    "\n",
    "mov_logit['genres_encoded'] = np.asarray(encoded_list)"
   ]
  },
  {
   "cell_type": "markdown",
   "id": "fc33f69e",
   "metadata": {},
   "source": [
    "__Setup for Models__"
   ]
  },
  {
   "cell_type": "code",
   "execution_count": 325,
   "id": "e3267291",
   "metadata": {},
   "outputs": [],
   "source": [
    "# converts vote average (rating) to 1s and 0s (meaning good and bad ratings)\n",
    "def binary(y):\n",
    "    vote_list = []\n",
    "    for rating in y: \n",
    "        if rating >= 7.0:\n",
    "            vote_list.append(1)\n",
    "        else:\n",
    "            vote_list.append(0)\n",
    "    return vote_list\n",
    "\n",
    "# Calculate p-values\n",
    "def logit_pvalue(model, x):\n",
    "    \"\"\" Calculate z-scores for scikit-learn LogisticRegression.\n",
    "    parameters:\n",
    "        model: fitted sklearn.linear_model.LogisticRegression with intercept and large C\n",
    "        x:     matrix on which the model was fit\n",
    "    This function uses asymtptics for maximum likelihood estimates.\n",
    "    \"\"\"\n",
    "    p = model.predict_proba(x)\n",
    "    n = len(p)\n",
    "    m = len(model.coef_[0]) + 1\n",
    "    coefs = np.concatenate([model.intercept_, model.coef_[0]])\n",
    "    x_full = np.matrix(np.insert(np.array(x), 0, 1, axis = 1))\n",
    "    ans = np.zeros((m, m))\n",
    "    for i in range(n):\n",
    "        ans = ans + np.dot(np.transpose(x_full[i, :]), x_full[i, :]) * p[i,1] * p[i, 0]\n",
    "    vcov = np.linalg.inv(np.matrix(ans))\n",
    "    se = np.sqrt(np.diag(vcov))\n",
    "    t =  coefs/se  \n",
    "    p = (1 - norm.cdf(abs(t))) * 2\n",
    "    return p\n",
    "\n",
    "# create feature space\n",
    "X = np.concatenate((np.asarray(encoded_list), np.asarray(mov_logit[\"Budget in 2023\"]).reshape(len(mov_logit), 1), np.asarray(mov_logit[\"runtime\"]).reshape(len(mov_logit), 1), np.asarray(mov_logit[\"Year\"]).reshape(len(mov_logit), 1)), axis = 1)\n",
    "\n",
    "# train, test split\n",
    "train_X, test_X, train_y, test_y = train_test_split(X, np.asarray(mov_logit[\"vote_average\"]), test_size = 0.20, random_state = 100)\n",
    "\n",
    "# set y to 1s and 0s\n",
    "train_bi_y = binary(train_y)\n",
    "test_bi_y = binary(test_y)"
   ]
  },
  {
   "cell_type": "markdown",
   "id": "71c52de4",
   "metadata": {},
   "source": [
    "__Model with L2 Regularization__"
   ]
  },
  {
   "cell_type": "code",
   "execution_count": 326,
   "id": "c38dd789",
   "metadata": {},
   "outputs": [
    {
     "name": "stdout",
     "output_type": "stream",
     "text": [
      "Logistic Regression on IMDb Rating using L2 Regularization\n",
      "\n",
      "Train Set Results\n",
      "\n",
      "Intercept: -1.458621248903283e-07\n",
      "Coefficients: [-5.05718517e-08 -4.22688215e-08 -3.30838082e-08 -2.44610843e-08\n",
      " -6.05966539e-09 -1.13459248e-08 -5.61274945e-08 -9.26531219e-08\n",
      " -1.47595266e-08 -7.12618039e-09 -1.60912792e-08  1.15574073e-08\n",
      " -1.32206544e-08 -2.27871733e-09 -4.60936609e-09  5.41829169e-09\n",
      "  6.00032214e-09 -5.64884995e-10 -2.36008927e-10 -2.64323020e-10\n",
      " -2.55954916e-09 -1.09320346e-05 -2.93932983e-04]\n",
      "Accuracy score: 0.8045938748335553\n"
     ]
    },
    {
     "data": {
      "image/png": "[encoded data removed]",
      "text/plain": [
       "<Figure size 216x216 with 1 Axes>"
      ]
     },
     "metadata": {
      "needs_background": "light"
     },
     "output_type": "display_data"
    },
    {
     "name": "stdout",
     "output_type": "stream",
     "text": [
      "Test Set Results\n",
      "\n",
      "Accuracy score: 0.7922769640479361\n"
     ]
    },
    {
     "data": {
      "image/png": "[encoded data removed]",
      "text/plain": [
       "<Figure size 216x216 with 1 Axes>"
      ]
     },
     "metadata": {
      "needs_background": "light"
     },
     "output_type": "display_data"
    },
    {
     "name": "stdout",
     "output_type": "stream",
     "text": [
      "p-values\n",
      " [0.99999998 0.99999968 0.99999975 0.9999998  0.99999988 0.99999997\n",
      " 0.99999995 0.99999972 0.99999939 0.99999991 0.99999997 0.99999989\n",
      " 0.99999997 0.99999995 0.99999999 0.99999999 0.99999998 0.99999999\n",
      " 1.         1.         1.         0.0564474  0.9973459  0.92580374]\n"
     ]
    }
   ],
   "source": [
    "# RESULTS OF MODEL\n",
    "print('Logistic Regression on IMDb Rating using L2 Regularization\\n')\n",
    "logreg = LogisticRegression(random_state = 0, multi_class = 'multinomial', solver='lbfgs') #C = 1e30\n",
    "model = logreg.fit(train_X, train_bi_y)\n",
    "\n",
    "# print results: coefficient, accuracy score, confusion matrix\n",
    "print('Train Set Results\\n')\n",
    "\n",
    "print('Intercept:', model.intercept_[0])\n",
    "print('Coefficients:', model.coef_[0])\n",
    "#for i in range(len(x_list)):\n",
    "    #print('-', x_list[i], ':', model.coef_[0][i])\n",
    "print('Accuracy score:', model.score(train_X, np.asarray(train_bi_y).reshape(-1, 1)))\n",
    "\n",
    "# confusion matrix\n",
    "cm = confusion_matrix(train_bi_y, model.predict(train_X))\n",
    "\n",
    "fig, ax = plt.subplots(figsize=(3, 3))\n",
    "ax.imshow(cm)\n",
    "ax.grid(False)\n",
    "ax.xaxis.set(ticks=(0, 1), ticklabels=('Predicted 0s', 'Predicted 1s'))\n",
    "ax.yaxis.set(ticks=(0, 1), ticklabels=('Actual 0s', 'Actual 1s'))\n",
    "ax.set_ylim(1.5, -0.5)\n",
    "for i in range(2):\n",
    "    for j in range(2):\n",
    "        ax.text(j, i, cm[i, j], ha='center', va='center', color='white')\n",
    "ax.text(0, 0, cm[0, 0], ha='center', va='center', color='black')\n",
    "plt.show()\n",
    "\n",
    "#print(classification_report(train_bi_y, model.predict(train_X)))\n",
    "print('Test Set Results\\n')\n",
    "\n",
    "# print test results\n",
    "#print('Intercept:', model.intercept_[0])\n",
    "#print('Coefficients:', model.coef_[0]) \n",
    "#for i in range(len(x_list)):\n",
    "    #print('-', x_list[i], ':', model.coef_[0][i])\n",
    "print('Accuracy score:', model.score(test_X, np.asarray(test_bi_y).reshape(-1, 1)))\n",
    "\n",
    "# confusion matrix\n",
    "cm = confusion_matrix(test_bi_y, model.predict(test_X))\n",
    "\n",
    "fig, ax = plt.subplots(figsize=(3, 3))\n",
    "ax.imshow(cm)\n",
    "ax.grid(False)\n",
    "ax.xaxis.set(ticks=(0, 1), ticklabels=('Predicted 0s', 'Predicted 1s'))\n",
    "ax.yaxis.set(ticks=(0, 1), ticklabels=('Actual 0s', 'Actual 1s'))\n",
    "ax.set_ylim(1.5, -0.5)\n",
    "for i in range(2):\n",
    "    for j in range(2):\n",
    "        ax.text(j, i, cm[i, j], ha='center', va='center', color='white')\n",
    "ax.text(0, 0, cm[0, 0], ha='center', va='center', color='black')\n",
    "plt.show()\n",
    "\n",
    "#print(classification_report(test_bi_y, model.predict(test_X)))\n",
    "\n",
    "\n",
    "# print p-values\n",
    "print('p-values\\n', logit_pvalue(model, train_X))"
   ]
  },
  {
   "cell_type": "markdown",
   "id": "674b0d6b",
   "metadata": {},
   "source": [
    "__Model with L1 Regularization__"
   ]
  },
  {
   "cell_type": "code",
   "execution_count": 327,
   "id": "3175abc8",
   "metadata": {},
   "outputs": [
    {
     "name": "stdout",
     "output_type": "stream",
     "text": [
      "Logistic Regression on IMDb Rating using L1 Regularization\n",
      "\n",
      "Train Set Results\n",
      "\n",
      "Intercept: -4.762257989180302e-13\n",
      "Coefficients: [-1.63334056e-13 -1.37027923e-13 -1.05821804e-13 -7.85286061e-14\n",
      " -1.83191287e-14 -3.54574414e-14 -1.82110428e-13 -3.00751983e-13\n",
      " -4.60265051e-14 -2.15168047e-14 -4.99944742e-14  3.59579125e-14\n",
      " -4.15501067e-14 -5.65427799e-15 -1.32200915e-14  1.58418160e-14\n",
      "  1.77225516e-14 -1.20937974e-16  0.00000000e+00  0.00000000e+00\n",
      " -1.11793835e-08 -3.56715950e-11 -9.59663789e-10]\n",
      "Accuracy score: 0.8045938748335553\n"
     ]
    },
    {
     "data": {
      "image/png": "[encoded data removed]",
      "text/plain": [
       "<Figure size 216x216 with 1 Axes>"
      ]
     },
     "metadata": {
      "needs_background": "light"
     },
     "output_type": "display_data"
    },
    {
     "name": "stdout",
     "output_type": "stream",
     "text": [
      "Test Set Results\n",
      "\n",
      "Accuracy score: 0.7922769640479361\n"
     ]
    },
    {
     "data": {
      "image/png": "[encoded data removed]",
      "text/plain": [
       "<Figure size 216x216 with 1 Axes>"
      ]
     },
     "metadata": {
      "needs_background": "light"
     },
     "output_type": "display_data"
    },
    {
     "name": "stdout",
     "output_type": "stream",
     "text": [
      "p-values\n",
      " [1.00000000e+00 1.00000000e+00 1.00000000e+00 1.00000000e+00\n",
      " 1.00000000e+00 1.00000000e+00 1.00000000e+00 1.00000000e+00\n",
      " 1.00000000e+00 1.00000000e+00 1.00000000e+00 1.00000000e+00\n",
      " 1.00000000e+00 1.00000000e+00 1.00000000e+00 1.00000000e+00\n",
      " 1.00000000e+00 1.00000000e+00 1.00000000e+00 1.00000000e+00\n",
      " 1.00000000e+00 7.22542026e-11 9.99999991e-01 9.99999727e-01]\n"
     ]
    }
   ],
   "source": [
    "# RESULTS OF MODEL\n",
    "print('Logistic Regression on IMDb Rating using L1 Regularization\\n')\n",
    "logreg = LogisticRegression(random_state = 0, multi_class = 'multinomial', solver='saga', penalty = 'l1') #C = 1e30,\n",
    "model = logreg.fit(train_X, train_bi_y)\n",
    "\n",
    "# print results: coefficient, accuracy score, confusion matrix\n",
    "print('Train Set Results\\n')\n",
    "\n",
    "print('Intercept:', model.intercept_[0])\n",
    "print('Coefficients:', model.coef_[0])\n",
    "#for i in range(len(x_list)):\n",
    "    #print('-', x_list[i], ':', model.coef_[0][i])\n",
    "print('Accuracy score:', model.score(train_X, np.asarray(train_bi_y).reshape(-1, 1)))\n",
    "\n",
    "# confusion matrix\n",
    "cm = confusion_matrix(train_bi_y, model.predict(train_X))\n",
    "\n",
    "fig, ax = plt.subplots(figsize=(3, 3))\n",
    "ax.imshow(cm)\n",
    "ax.grid(False)\n",
    "ax.xaxis.set(ticks=(0, 1), ticklabels=('Predicted 0s', 'Predicted 1s'))\n",
    "ax.yaxis.set(ticks=(0, 1), ticklabels=('Actual 0s', 'Actual 1s'))\n",
    "ax.set_ylim(1.5, -0.5)\n",
    "for i in range(2):\n",
    "    for j in range(2):\n",
    "        ax.text(j, i, cm[i, j], ha='center', va='center', color='white')\n",
    "ax.text(0, 0, cm[0, 0], ha='center', va='center', color='black')\n",
    "plt.show()\n",
    "\n",
    "#print(classification_report(train_bi_y, model.predict(train_X)))\n",
    "print('Test Set Results\\n')\n",
    "\n",
    "# print test results\n",
    "#print('Intercept:', model.intercept_[0])\n",
    "#print('Coefficients:', model.coef_[0]) \n",
    "#for i in range(len(x_list)):\n",
    "    #print('-', x_list[i], ':', model.coef_[0][i])\n",
    "print('Accuracy score:', model.score(test_X, np.asarray(test_bi_y).reshape(-1, 1)))\n",
    "\n",
    "# confusion matrix\n",
    "cm = confusion_matrix(test_bi_y, model.predict(test_X))\n",
    "\n",
    "fig, ax = plt.subplots(figsize=(3, 3))\n",
    "ax.imshow(cm)\n",
    "ax.grid(False)\n",
    "ax.xaxis.set(ticks=(0, 1), ticklabels=('Predicted 0s', 'Predicted 1s'))\n",
    "ax.yaxis.set(ticks=(0, 1), ticklabels=('Actual 0s', 'Actual 1s'))\n",
    "ax.set_ylim(1.5, -0.5)\n",
    "for i in range(2):\n",
    "    for j in range(2):\n",
    "        ax.text(j, i, cm[i, j], ha='center', va='center', color='white')\n",
    "ax.text(0, 0, cm[0, 0], ha='center', va='center', color='black')\n",
    "plt.show()\n",
    "\n",
    "#print(classification_report(test_bi_y, model.predict(test_X)))\n",
    "\n",
    "\n",
    "# print p-values\n",
    "print('p-values\\n', logit_pvalue(model, train_X))"
   ]
  }
 ],
 "metadata": {
  "kernelspec": {
   "display_name": "Python 3 (ipykernel)",
   "language": "python",
   "name": "python3"
  },
  "language_info": {
   "codemirror_mode": {
    "name": "ipython",
    "version": 3
   },
   "file_extension": ".py",
   "mimetype": "text/x-python",
   "name": "python",
   "nbconvert_exporter": "python",
   "pygments_lexer": "ipython3",
   "version": "3.9.12"
  }
 },
 "nbformat": 4,
 "nbformat_minor": 5
}
